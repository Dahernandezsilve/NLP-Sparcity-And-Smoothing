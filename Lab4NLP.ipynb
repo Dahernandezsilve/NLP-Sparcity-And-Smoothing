{
 "cells": [
  {
   "cell_type": "markdown",
   "id": "be7f6821",
   "metadata": {},
   "source": [
    "<table style=\"width:100%; border-collapse: collapse;\">\n",
    "  <tr>\n",
    "    <td style=\"width:20%; vertical-align:middle;\">\n",
    "      <img src=\"LogoUVG.png\" width=\"400\"/>\n",
    "    </td>\n",
    "    <td style=\"text-align:left; vertical-align:middle;\">\n",
    "      <h2 style=\"margin-bottom: 0;\">Universidad del Valle de Guatemala - UVG</h2>\n",
    "      <h3 style=\"margin-top: 0;\">Facultad de Ingeniería - Computación</h3>\n",
    "      <p style=\"font-size: 16px; margin-bottom: 0; margin-top: -20px\">\n",
    "        <strong>Curso:</strong> Procesamiento de Lenguaje Natural \n",
    "        <strong>Sección:</strong> 10\n",
    "      </p>\n",
    "      <p style=\"font-size: 16px; margin: 0;\"><strong>Laboratorio 4:</strong> Modelos de Lenguaje con N-gramas, Espacidad y Suavizado</p>\n",
    "      <br>\n",
    "      <p style=\"font-size: 15px; margin: 0;\"><strong>Autor:</strong></p>\n",
    "      <ul style=\"margin-top: 5px; padding-left: 20px; font-size: 15px;\">\n",
    "        <li>Diego Alexander Hernández Silvestre - <strong>21270</strong></li>\n",
    "      </ul>\n",
    "    </td>\n",
    "  </tr>\n",
    "</table>"
   ]
  },
  {
   "cell_type": "code",
   "execution_count": 203,
   "id": "729c2128",
   "metadata": {},
   "outputs": [
    {
     "name": "stderr",
     "output_type": "stream",
     "text": [
      "[nltk_data] Downloading package cess_esp to\n",
      "[nltk_data]     C:\\Users\\daher\\AppData\\Roaming\\nltk_data...\n",
      "[nltk_data]   Package cess_esp is already up-to-date!\n"
     ]
    },
    {
     "data": {
      "text/plain": [
       "True"
      ]
     },
     "execution_count": 203,
     "metadata": {},
     "output_type": "execute_result"
    }
   ],
   "source": [
    "import nltk\n",
    "nltk.download('cess_esp')"
   ]
  },
  {
   "cell_type": "code",
   "execution_count": 204,
   "id": "c39a7bd2",
   "metadata": {},
   "outputs": [],
   "source": [
    "from nltk.lm.preprocessing import padded_everygram_pipeline\n",
    "from nltk import ngrams, ConditionalFreqDist\n",
    "from nltk.lm import KneserNeyInterpolated\n",
    "from nltk.corpus import cess_esp\n",
    "from nltk.util import ngrams\n",
    "import pandas as pd\n",
    "import random\n",
    "import re"
   ]
  },
  {
   "cell_type": "code",
   "execution_count": 205,
   "id": "97f93e24",
   "metadata": {},
   "outputs": [],
   "source": [
    "# Load the CESS-ESP corpus\n",
    "corpus = cess_esp.sents()"
   ]
  },
  {
   "cell_type": "markdown",
   "id": "a46eb6af",
   "metadata": {},
   "source": [
    "# Preprocesamiento del corpus"
   ]
  },
  {
   "cell_type": "markdown",
   "id": "d577ca94",
   "metadata": {},
   "source": [
    "Para que los modelos funcionen óptimamente, se procede a realizar la estandarización del corpus proporcionado. El primer elemento detectado es que el corpus utiliza marcas para identificar patrones sintácticos. Por ejemplo -Fpa-, -Fpt- y *0*, pero como el objetivo del laboratorio es generar texto fluido con n-gramas, se procede a filtrarlos."
   ]
  },
  {
   "cell_type": "code",
   "execution_count": 206,
   "id": "b788ff16",
   "metadata": {},
   "outputs": [],
   "source": [
    "def removeSpecialTags(sentences):\n",
    "    \"\"\"\n",
    "    Elimina tokens como -Fpa-, -Fpt- (rodeados por guiones)\n",
    "    y tokens como *0*, *1* (placeholders de anotación sintáctica)\n",
    "    en el corpus cess_esp.\n",
    "    \"\"\"\n",
    "    cleaned = []\n",
    "    for sentence in sentences:\n",
    "        cleaned_sentence = [\n",
    "            word for word in sentence\n",
    "            if not (word.startswith('-') and word.endswith('-'))  # -Fpa-, -Fpt-\n",
    "            and not re.fullmatch(r\"\\*\\d+\\*\", word)                # *0*, *1*, etc.\n",
    "        ]\n",
    "        cleaned.append(cleaned_sentence)\n",
    "    return cleaned\n",
    "\n",
    "comments = removeSpecialTags(corpus)"
   ]
  },
  {
   "cell_type": "code",
   "execution_count": 207,
   "id": "83958d56",
   "metadata": {},
   "outputs": [
    {
     "data": {
      "text/plain": [
       "['El grupo estatal Electricité_de_France EDF anunció hoy , jueves , la compra del 51_por_ciento de la empresa mexicana Electricidad_Águila_de_Altamira EAA , creada por el japonés Mitsubishi_Corporation para poner_en_marcha una central de gas de 495 megavatios .',\n",
       " 'Una portavoz de EDF explicó a EFE que el proyecto para la construcción de Altamira_2 , al norte de Tampico , prevé la utilización de gas natural como combustible principal en una central de ciclo combinado que debe empezar a funcionar en mayo_del_2002 .',\n",
       " 'La electricidad producida pasará a la red eléctrica pública de México en_virtud_de un acuerdo de venta de energía de EAA con la Comisión_Federal_de_Electricidad CFE por una duración de 25 años .',\n",
       " 'EDF , que no quiso revelar cuánto pagó por su participación mayoritaria en EAA , intervendrá como asistente en la construcción de Altamira_2 y , posteriormente , se encargará de explotarla como principal accionista .',\n",
       " 'EDF y Mitsubishi participaron en 1998 en la licitación de licencias para construir centrales eléctricas en México y se quedaron con dos cada una : Río_Bravo y Saltillo para la compañía francesa y Altamira y Tuxpán para la japonesa .',\n",
       " 'EDF tiene previsto invertir 194 millones de euros 186 millones de dólares en la central de Río_Bravo , con una potencia de 495 megavatios , y 134 millones de euros 28 millones de dólares en Saltillo , que como la primera funcionará con gas natural y cuya potencia prevista es de 247 megavatios .',\n",
       " 'La alcaldesa de Málaga y cabeza de lista del PP al Congreso por esta provincia , Celia_Villalobos , pidió hoy a los militantes de esta formación que sepan \" administrar la victoria \" , porque \" no vale la revancha , el insulto o el ataque , eso es para ellos \" .',\n",
       " 'En una intervención ante militantes populares en el hotel de la capital malagueña elegido como sede de la noche electoral del PP , Villalobos dio las gracias \" a los militantes de muchos años que hoy tienen una emoción especial \" , y se confesó también \" especialmente emocionada \" en sus quintas elecciones generales .',\n",
       " 'La diputada electa transmitió \" un abrazo y mi cariño a José_María_Aznar \" , a quien definió como \" el hombre que ha sabido llevar al PP hasta la victoria \" , y dio las gracias a la \" gente que ha sabido ilusionar y convencer a muchos para que apuesten \" por este partido .',\n",
       " 'A todas estas personas \" no las vamos a defraudar \" , aseguró Villalobos , que subrayó que Aznar \" seguirá gobernando desde el diálogo , sin prepotencia , con honradez y preocupado por los problemas , y seguiremos siendo los mismos \" .']"
      ]
     },
     "execution_count": 207,
     "metadata": {},
     "output_type": "execute_result"
    }
   ],
   "source": [
    "comments = [' '.join(sent) for sent in comments]\n",
    "comments[:10]"
   ]
  },
  {
   "cell_type": "markdown",
   "id": "91a940be",
   "metadata": {},
   "source": [
    "Se buscar analizar el efecto de la estandarización para identificar si existen apariciones de nuevas palabras con más repeticiones o simplemente, aumenta el número de las que actualmente se encuentran como más frecuentes. Para esto, se mostraran las 8 palabras más frecuentes antes del proceso y después del mismo. "
   ]
  },
  {
   "cell_type": "code",
   "execution_count": 208,
   "id": "88b54a28",
   "metadata": {},
   "outputs": [
    {
     "name": "stdout",
     "output_type": "stream",
     "text": [
      "Top 8 common words:\n",
      "[(',', 11420), ('de', 10234), ('la', 6412), ('.', 5866), ('que', 5552), ('el', 5199), ('en', 4340), ('y', 4235)]\n"
     ]
    }
   ],
   "source": [
    "comments = [comment.strip() for comment in comments if comment.strip()]\n",
    "\n",
    "def top_n_words(comments, n=8):\n",
    "    from collections import Counter\n",
    "    words = [word for comment in comments for word in comment.split()]\n",
    "    return Counter(words).most_common(n)\n",
    "\n",
    "print(\"Top 8 common words:\")\n",
    "print(top_n_words(comments))"
   ]
  },
  {
   "cell_type": "markdown",
   "id": "23d8b764",
   "metadata": {},
   "source": [
    "Para verificar si será necesario aplicar la transformación de mayusculas a mínusculas, se desarrolla una función que permite observar si una palabra tiene una equivalente en con algún caracter en mayúscula o minúscula en el corpus."
   ]
  },
  {
   "cell_type": "code",
   "execution_count": 209,
   "id": "60a17a20",
   "metadata": {},
   "outputs": [
    {
     "name": "stdout",
     "output_type": "stream",
     "text": [
      "Words with case variations:\n",
      "Variantes de 'el': {'EL', 'el', 'El'}\n",
      "Variantes de 'grupo': {'Grupo', 'grupo'}\n",
      "Variantes de 'anunció': {'Anunció', 'anunció'}\n"
     ]
    }
   ],
   "source": [
    "def encontrar_variaciones_de_casing(comments, max_resultados=3):\n",
    "    formas_por_palabra = {}\n",
    "    resultados_mostrados = 0\n",
    "\n",
    "    for comment in comments:\n",
    "        for word in comment.split():\n",
    "            base = word.lower()\n",
    "            if base not in formas_por_palabra:\n",
    "                formas_por_palabra[base] = set()\n",
    "            formas_por_palabra[base].add(word)\n",
    "\n",
    "    for base, formas in formas_por_palabra.items():\n",
    "        if len(formas) > 1:\n",
    "            print(f\"Variantes de '{base}': {formas}\")\n",
    "            resultados_mostrados += 1\n",
    "            if resultados_mostrados >= max_resultados:\n",
    "                break\n",
    "\n",
    "\n",
    "print(\"Words with case variations:\")\n",
    "encontrar_variaciones_de_casing(comments)"
   ]
  },
  {
   "cell_type": "markdown",
   "id": "96550e1c",
   "metadata": {},
   "source": [
    "Observamos que sí existen casos con variantes mayusculas y minusculas, por lo que sí se considera necesaria su aplicación. Además, se procede a analizar si ocurre lo mismo pero con signos de puntuación."
   ]
  },
  {
   "cell_type": "code",
   "execution_count": 210,
   "id": "1529afb1",
   "metadata": {},
   "outputs": [
    {
     "name": "stdout",
     "output_type": "stream",
     "text": [
      "Words with punctuation variations:\n",
      "Variantes de puntuación para '': {'!', '¿', '...', '¡', \"'\", '?', '.', '\"', ':', ';', ','}\n",
      "Variantes de puntuación para 'PP': {'PP', 'PP.'}\n",
      "Variantes de puntuación para '2': {'2', '2.'}\n"
     ]
    }
   ],
   "source": [
    "def encontrar_variaciones_de_puntuacion(comments, max_resultados=3):\n",
    "    formas_por_palabra = {}\n",
    "    resultados_mostrados = 0\n",
    "    signos = \".!?,;:()\\\"'¿¡\"\n",
    "\n",
    "    for comment in comments:\n",
    "        for word in comment.split():\n",
    "            base = word.strip(signos)\n",
    "            if base not in formas_por_palabra:\n",
    "                formas_por_palabra[base] = set()\n",
    "            formas_por_palabra[base].add(word)\n",
    "\n",
    "    for base, formas in formas_por_palabra.items():\n",
    "        if len(formas) > 1:\n",
    "            print(f\"Variantes de puntuación para '{base}': {formas}\")\n",
    "            resultados_mostrados += 1\n",
    "            if resultados_mostrados >= max_resultados:\n",
    "                break\n",
    "\n",
    "print(\"Words with punctuation variations:\")\n",
    "encontrar_variaciones_de_puntuacion(comments)"
   ]
  },
  {
   "cell_type": "markdown",
   "id": "e553985a",
   "metadata": {},
   "source": [
    "De esta forma identificamos que también se producen ocurrencias, por lo que se aplica el procedimiento de eliminación de puntuación"
   ]
  },
  {
   "cell_type": "code",
   "execution_count": 211,
   "id": "79daeefe",
   "metadata": {},
   "outputs": [],
   "source": [
    "def erasePunctuation(comments):\n",
    "    return [re.sub(r'[^\\w\\s]', '', line) for line in comments]"
   ]
  },
  {
   "cell_type": "markdown",
   "id": "bbe0d71f",
   "metadata": {},
   "source": [
    "Se procede con la estandarización y se evalua el resultado."
   ]
  },
  {
   "cell_type": "code",
   "execution_count": 212,
   "id": "01dedf80",
   "metadata": {},
   "outputs": [
    {
     "name": "stdout",
     "output_type": "stream",
     "text": [
      "Top 8 common words after standardization:\n",
      "[('de', 10286), ('la', 6925), ('el', 6013), ('que', 5570), ('en', 4643), ('y', 4349), ('los', 3189), ('a', 3020)]\n"
     ]
    }
   ],
   "source": [
    "comments = [comment.lower() for comment in comments]\n",
    "comments = erasePunctuation(comments)\n",
    "print(\"Top 8 common words after standardization:\")\n",
    "print(top_n_words(comments))  "
   ]
  },
  {
   "cell_type": "markdown",
   "id": "9f8db181",
   "metadata": {},
   "source": [
    "Se puede apreciar que existe un aumento en la frecuencia de algunas palabras, por lo tanto, la estandarización es efectiva. "
   ]
  },
  {
   "cell_type": "code",
   "execution_count": 213,
   "id": "680c4a7e",
   "metadata": {},
   "outputs": [
    {
     "data": {
      "text/plain": [
       "['el grupo estatal electricité_de_france edf anunció hoy  jueves  la compra del 51_por_ciento de la empresa mexicana electricidad_águila_de_altamira eaa  creada por el japonés mitsubishi_corporation para poner_en_marcha una central de gas de 495 megavatios ',\n",
       " 'una portavoz de edf explicó a efe que el proyecto para la construcción de altamira_2  al norte de tampico  prevé la utilización de gas natural como combustible principal en una central de ciclo combinado que debe empezar a funcionar en mayo_del_2002 ',\n",
       " 'la electricidad producida pasará a la red eléctrica pública de méxico en_virtud_de un acuerdo de venta de energía de eaa con la comisión_federal_de_electricidad cfe por una duración de 25 años ',\n",
       " 'edf  que no quiso revelar cuánto pagó por su participación mayoritaria en eaa  intervendrá como asistente en la construcción de altamira_2 y  posteriormente  se encargará de explotarla como principal accionista ',\n",
       " 'edf y mitsubishi participaron en 1998 en la licitación de licencias para construir centrales eléctricas en méxico y se quedaron con dos cada una  río_bravo y saltillo para la compañía francesa y altamira y tuxpán para la japonesa ',\n",
       " 'edf tiene previsto invertir 194 millones de euros 186 millones de dólares en la central de río_bravo  con una potencia de 495 megavatios  y 134 millones de euros 28 millones de dólares en saltillo  que como la primera funcionará con gas natural y cuya potencia prevista es de 247 megavatios ',\n",
       " 'la alcaldesa de málaga y cabeza de lista del pp al congreso por esta provincia  celia_villalobos  pidió hoy a los militantes de esta formación que sepan  administrar la victoria   porque  no vale la revancha  el insulto o el ataque  eso es para ellos  ',\n",
       " 'en una intervención ante militantes populares en el hotel de la capital malagueña elegido como sede de la noche electoral del pp  villalobos dio las gracias  a los militantes de muchos años que hoy tienen una emoción especial   y se confesó también  especialmente emocionada  en sus quintas elecciones generales ',\n",
       " 'la diputada electa transmitió  un abrazo y mi cariño a josé_maría_aznar   a quien definió como  el hombre que ha sabido llevar al pp hasta la victoria   y dio las gracias a la  gente que ha sabido ilusionar y convencer a muchos para que apuesten  por este partido ',\n",
       " 'a todas estas personas  no las vamos a defraudar   aseguró villalobos  que subrayó que aznar  seguirá gobernando desde el diálogo  sin prepotencia  con honradez y preocupado por los problemas  y seguiremos siendo los mismos  ']"
      ]
     },
     "execution_count": 213,
     "metadata": {},
     "output_type": "execute_result"
    }
   ],
   "source": [
    "comments[:10]"
   ]
  },
  {
   "cell_type": "markdown",
   "id": "ff2cbe31",
   "metadata": {},
   "source": [
    "Finalmente se identifica que existen secuencias de 2 o más espacios en blanco en la separación de algunas palabras, para evitar obtener bigramas incorrectos o que en algun punto de la estandarización afecten, se procede a normalizarlos."
   ]
  },
  {
   "cell_type": "code",
   "execution_count": 214,
   "id": "fc16e3bf",
   "metadata": {},
   "outputs": [],
   "source": [
    "def normalizeSpaces(lines):\n",
    "    return [re.sub(r'\\s+', ' ', line).strip() for line in lines]"
   ]
  },
  {
   "cell_type": "code",
   "execution_count": 215,
   "id": "ff2ea16d",
   "metadata": {},
   "outputs": [
    {
     "data": {
      "text/plain": [
       "['el grupo estatal electricité_de_france edf anunció hoy jueves la compra del 51_por_ciento de la empresa mexicana electricidad_águila_de_altamira eaa creada por el japonés mitsubishi_corporation para poner_en_marcha una central de gas de 495 megavatios',\n",
       " 'una portavoz de edf explicó a efe que el proyecto para la construcción de altamira_2 al norte de tampico prevé la utilización de gas natural como combustible principal en una central de ciclo combinado que debe empezar a funcionar en mayo_del_2002',\n",
       " 'la electricidad producida pasará a la red eléctrica pública de méxico en_virtud_de un acuerdo de venta de energía de eaa con la comisión_federal_de_electricidad cfe por una duración de 25 años',\n",
       " 'edf que no quiso revelar cuánto pagó por su participación mayoritaria en eaa intervendrá como asistente en la construcción de altamira_2 y posteriormente se encargará de explotarla como principal accionista',\n",
       " 'edf y mitsubishi participaron en 1998 en la licitación de licencias para construir centrales eléctricas en méxico y se quedaron con dos cada una río_bravo y saltillo para la compañía francesa y altamira y tuxpán para la japonesa',\n",
       " 'edf tiene previsto invertir 194 millones de euros 186 millones de dólares en la central de río_bravo con una potencia de 495 megavatios y 134 millones de euros 28 millones de dólares en saltillo que como la primera funcionará con gas natural y cuya potencia prevista es de 247 megavatios',\n",
       " 'la alcaldesa de málaga y cabeza de lista del pp al congreso por esta provincia celia_villalobos pidió hoy a los militantes de esta formación que sepan administrar la victoria porque no vale la revancha el insulto o el ataque eso es para ellos',\n",
       " 'en una intervención ante militantes populares en el hotel de la capital malagueña elegido como sede de la noche electoral del pp villalobos dio las gracias a los militantes de muchos años que hoy tienen una emoción especial y se confesó también especialmente emocionada en sus quintas elecciones generales',\n",
       " 'la diputada electa transmitió un abrazo y mi cariño a josé_maría_aznar a quien definió como el hombre que ha sabido llevar al pp hasta la victoria y dio las gracias a la gente que ha sabido ilusionar y convencer a muchos para que apuesten por este partido',\n",
       " 'a todas estas personas no las vamos a defraudar aseguró villalobos que subrayó que aznar seguirá gobernando desde el diálogo sin prepotencia con honradez y preocupado por los problemas y seguiremos siendo los mismos']"
      ]
     },
     "execution_count": 215,
     "metadata": {},
     "output_type": "execute_result"
    }
   ],
   "source": [
    "comments = normalizeSpaces(comments)\n",
    "comments[:10]"
   ]
  },
  {
   "cell_type": "markdown",
   "id": "804160f9",
   "metadata": {},
   "source": [
    "De esta forma se procede a almacenar el corpus estandarizado."
   ]
  },
  {
   "cell_type": "code",
   "execution_count": 216,
   "id": "b27be755",
   "metadata": {},
   "outputs": [],
   "source": [
    "with open(\"corpus.txt\", \"w\", encoding=\"utf-8\") as file:\n",
    "    for comment in comments:\n",
    "        file.write(comment + \"\\n\")"
   ]
  },
  {
   "cell_type": "markdown",
   "id": "901658df",
   "metadata": {},
   "source": [
    "## Construcción de modelos de n-gramas"
   ]
  },
  {
   "cell_type": "markdown",
   "id": "3d150d95",
   "metadata": {},
   "source": [
    "Los modelos basados en bigramas requieren de una tokenización de los elementos para luego ser procesados mediante la formula condicional P(wn | wn-1, ... , wn-k+1) usando frecuencias relativas."
   ]
  },
  {
   "cell_type": "markdown",
   "id": "f1978a35",
   "metadata": {},
   "source": [
    "Con ayuda de nltk se construye un modelo de conteo condicional que permite calcular por cada palabra wn, cuántas veces aparece wn-1 después de la misma. Lo cual permite realizar el calculo de las probabilidades condicionales contando el total de ocurrencias por cada wn, usandolo como denominador de la frecuencia mencionada anteriormente."
   ]
  },
  {
   "cell_type": "markdown",
   "id": "68034061",
   "metadata": {},
   "source": [
    "Básicamente, se construyen los modelos en base a la siguiente fórmula:\n",
    "\n",
    "\\[\n",
    "P(w_n \\mid w_{n-1}, \\dots, w_{n-k+1}) = \\frac{C(w_{n-k+1}, \\dots, w_n)}{C(w_{n-k+1}, \\dots, w_{n-1})}\n",
    "\\]\n",
    "\n",
    "donde \\(k = 1, 2, 3\\)\n"
   ]
  },
  {
   "cell_type": "code",
   "execution_count": 217,
   "id": "aeb39f41",
   "metadata": {},
   "outputs": [
    {
     "data": {
      "text/plain": [
       "['el',\n",
       " 'grupo',\n",
       " 'estatal',\n",
       " 'electricité_de_france',\n",
       " 'edf',\n",
       " 'anunció',\n",
       " 'hoy',\n",
       " 'jueves',\n",
       " 'la',\n",
       " 'compra']"
      ]
     },
     "execution_count": 217,
     "metadata": {},
     "output_type": "execute_result"
    }
   ],
   "source": [
    "# Carga y tokenización del corpus estandarizado\n",
    "with open(\"corpus.txt\", \"r\", encoding=\"utf-8\") as file:\n",
    "    lines = file.readlines()\n",
    "\n",
    "tokens = []\n",
    "for line in lines:\n",
    "    words = line.strip().split()\n",
    "    tokens.extend(words)\n",
    "\n",
    "tokens[:10]"
   ]
  },
  {
   "cell_type": "code",
   "execution_count": 218,
   "id": "bbb2b28f",
   "metadata": {},
   "outputs": [],
   "source": [
    "def trainNgramModel(comments, n):\n",
    "    tokens = []\n",
    "    for sentence in comments:\n",
    "        tokens.extend(sentence.strip().split())\n",
    "\n",
    "    ngram_list = list(ngrams(tokens, n))\n",
    "    cfd = ConditionalFreqDist()\n",
    "\n",
    "    for ng in ngram_list:\n",
    "        context = () if n == 1 else tuple(ng[:-1])\n",
    "        word = ng[0] if n == 1 else ng[-1]\n",
    "        cfd[context][word] += 1\n",
    "\n",
    "    model = {}\n",
    "    for context in cfd:\n",
    "        model[context] = {\n",
    "            '__total__': cfd[context].N()\n",
    "        }\n",
    "        for word in cfd[context]:\n",
    "            model[context][word] = cfd[context][word]\n",
    "\n",
    "    vocab = set(tokens)\n",
    "    return model, len(vocab)"
   ]
  },
  {
   "cell_type": "code",
   "execution_count": 219,
   "id": "7a9a1a19",
   "metadata": {},
   "outputs": [],
   "source": [
    "bigramsProbability = []\n",
    "n = [1, 2, 3]\n",
    "for n_size in n:\n",
    "    bigramProbability, vocabSizeC = trainNgramModel(comments, n_size)\n",
    "    bigramsProbability.append(bigramProbability)"
   ]
  },
  {
   "cell_type": "markdown",
   "id": "22b0e03e",
   "metadata": {},
   "source": [
    "## Análisis de espacidad"
   ]
  },
  {
   "cell_type": "markdown",
   "id": "d104adf5",
   "metadata": {},
   "source": [
    "Aunque en el ejercicio anterior se construyeron modelos de n-gramas sobre todo el corpus, para este análisis de espacidad es necesario separar una parte del corpus como conjunto de prueba. Esto permite evaluar cuántos n-gramas nuevos aparecen que no fueron observados en los datos de entrenamiento, lo cual es esencial para entender las limitaciones de los modelos. La separación se realizará con 75% entrenamiento y 25% prueba."
   ]
  },
  {
   "cell_type": "code",
   "execution_count": 220,
   "id": "91aea06f",
   "metadata": {},
   "outputs": [],
   "source": [
    "splitIndex = int(len(comments) * 0.75)\n",
    "train_comments = comments[:splitIndex]\n",
    "test_comments = comments[splitIndex:]"
   ]
  },
  {
   "cell_type": "code",
   "execution_count": 221,
   "id": "20e47a00",
   "metadata": {},
   "outputs": [],
   "source": [
    "bigramsProbability = []\n",
    "for n_size in n:\n",
    "    bigramProbability, vocabSizeC = trainNgramModel(train_comments, n_size)\n",
    "    bigramsProbability.append(bigramProbability)"
   ]
  },
  {
   "cell_type": "code",
   "execution_count": 222,
   "id": "d8fe428f",
   "metadata": {},
   "outputs": [],
   "source": [
    "def getNgrams(comments, n):\n",
    "    tokens = []\n",
    "    for sentence in comments:\n",
    "        tokens.extend(sentence.strip().split())\n",
    "    return list(ngrams(tokens, n))"
   ]
  },
  {
   "cell_type": "code",
   "execution_count": 223,
   "id": "bdfe94f0",
   "metadata": {},
   "outputs": [],
   "source": [
    "def calculateSparsity(model, test_comments, n):\n",
    "    test_ngrams = getNgrams(test_comments, n)\n",
    "    total = len(test_ngrams)\n",
    "    missing = 0\n",
    "\n",
    "    for ng in test_ngrams:\n",
    "        context = () if n == 1 else tuple(ng[:-1])\n",
    "        word = ng[0] if n == 1 else ng[-1]\n",
    "\n",
    "        if context not in model or word not in model[context]:\n",
    "            missing += 1\n",
    "\n",
    "    return (missing / total) * 100"
   ]
  },
  {
   "cell_type": "code",
   "execution_count": 224,
   "id": "542333c9",
   "metadata": {},
   "outputs": [
    {
     "name": "stdout",
     "output_type": "stream",
     "text": [
      "Espacidad para n=1: 16.26% de n-gramas no vistos\n",
      "Espacidad para n=2: 62.92% de n-gramas no vistos\n",
      "Espacidad para n=3: 92.60% de n-gramas no vistos\n"
     ]
    }
   ],
   "source": [
    "for i, n_size in enumerate(n):\n",
    "    model = bigramsProbability[i]\n",
    "    sparsity = calculateSparsity(model, test_comments, n_size)\n",
    "    print(f\"Espacidad para n={n_size}: {sparsity:.2f}% de n-gramas no vistos\")"
   ]
  },
  {
   "cell_type": "markdown",
   "id": "a33dc412",
   "metadata": {},
   "source": [
    "Se infiere con esto que a mayor valor de n, mayor espacidad: el modelo necesita más combinaciones de palabras. De esta forma se limita la capacidad del modelo de generar texto o calcular la probabilidad para frases que son nuevas."
   ]
  },
  {
   "cell_type": "markdown",
   "id": "acde9b39",
   "metadata": {},
   "source": [
    "## Implementación de suavizado"
   ]
  },
  {
   "cell_type": "markdown",
   "id": "6e333b07",
   "metadata": {},
   "source": [
    "El suavizado en modelos de n-gramas es una técnica que ajusta las probabilidades para que incluso los n-gramas no observados tengan una probabilidad distinta de cero."
   ]
  },
  {
   "cell_type": "markdown",
   "id": "bbd608f0",
   "metadata": {},
   "source": [
    "### Suavizado de laplace"
   ]
  },
  {
   "attachments": {
    "image.png": {
     "image/png": "[encoded data removed]"
    }
   },
   "cell_type": "markdown",
   "id": "f200bafd",
   "metadata": {},
   "source": [
    "![image.png](attachment:image.png)"
   ]
  },
  {
   "cell_type": "code",
   "execution_count": 225,
   "id": "0f321ee9",
   "metadata": {},
   "outputs": [],
   "source": [
    "def laplaceSmoothedProbability(model, context, word, vocab_size):\n",
    "    count = model.get(context, {}).get(word, 0)\n",
    "    total = model.get(context, {}).get('__total__', 0)\n",
    "    return (count + 1) / (total + vocab_size)"
   ]
  },
  {
   "cell_type": "markdown",
   "id": "44674164",
   "metadata": {},
   "source": [
    "### Interpolación lineal"
   ]
  },
  {
   "attachments": {
    "image.png": {
     "image/png": "[encoded data removed]"
    }
   },
   "cell_type": "markdown",
   "id": "dfa80a2d",
   "metadata": {},
   "source": [
    "![image.png](attachment:image.png)"
   ]
  },
  {
   "cell_type": "code",
   "execution_count": 226,
   "id": "188e8ed9",
   "metadata": {},
   "outputs": [],
   "source": [
    "def interpolatedProbability(uni_model, bi_model, tri_model, context, word, vocab_size, lambdas=(0.4, 0.4, 0.2)):\n",
    "    lambda3, lambda2, lambda1 = lambdas\n",
    "    unigram = ()\n",
    "    bigram = (context[-1],) if len(context) >= 1 else ()\n",
    "    trigram = context if len(context) >= 2 else ()\n",
    "    p1 = laplaceSmoothedProbability(uni_model, unigram, word, vocab_size)\n",
    "    p2 = laplaceSmoothedProbability(bi_model, bigram, word, vocab_size)\n",
    "    p3 = laplaceSmoothedProbability(tri_model, trigram, word, vocab_size)\n",
    "    return lambda1 * p1 + lambda2 * p2 + lambda3 * p3"
   ]
  },
  {
   "cell_type": "markdown",
   "id": "5672e722",
   "metadata": {},
   "source": [
    "### Kneser-Ney"
   ]
  },
  {
   "cell_type": "code",
   "execution_count": 227,
   "id": "38169249",
   "metadata": {},
   "outputs": [],
   "source": [
    "def trainKneserNeyModel(tokens, n):\n",
    "    train_data, vocab = padded_everygram_pipeline(n, [tokens])\n",
    "    model = KneserNeyInterpolated(order=n)\n",
    "    model.fit(train_data, vocab)\n",
    "    return model"
   ]
  },
  {
   "cell_type": "markdown",
   "id": "cd8e95a3",
   "metadata": {},
   "source": [
    "Antes de realizar la implementación, los modelos se entrenarán en este caso con todo el corpus ya que en incisos posteriores lo que se busca evaluar es la perplejidad por lo que no existe la necesidad de hacer la separación en train y test."
   ]
  },
  {
   "cell_type": "code",
   "execution_count": 228,
   "id": "99e9a179",
   "metadata": {},
   "outputs": [],
   "source": [
    "bigramsProbability = []\n",
    "bigramsVocabSize = []\n",
    "n = [1, 2, 3]\n",
    "for n_size in n:\n",
    "    bigramProbability, vocabSizeC = trainNgramModel(comments, n_size)\n",
    "    bigramsProbability.append(bigramProbability)\n",
    "    bigramsVocabSize.append(vocabSizeC)"
   ]
  },
  {
   "cell_type": "code",
   "execution_count": 229,
   "id": "340b441e",
   "metadata": {},
   "outputs": [],
   "source": [
    "kneser_models = [trainKneserNeyModel(tokens, n) for n in [1, 2, 3]]"
   ]
  },
  {
   "cell_type": "markdown",
   "id": "49f49ba3",
   "metadata": {},
   "source": [
    "## Cálculo de perplejidad"
   ]
  },
  {
   "cell_type": "code",
   "execution_count": 230,
   "id": "ab7a9557",
   "metadata": {},
   "outputs": [],
   "source": [
    "def calculatePerplexityLaplace(tokens, model, vocab_size, n):\n",
    "    import math\n",
    "    N = len(tokens)\n",
    "    if N < n:\n",
    "        return float('inf')\n",
    "\n",
    "    log_prob_sum = 0.0\n",
    "    for i in range(N - n + 1):\n",
    "        ngram = tuple(tokens[i:i + n])\n",
    "        context = () if n == 1 else tuple(ngram[:-1])\n",
    "        word = ngram[0] if n == 1 else ngram[-1]\n",
    "\n",
    "        prob = laplaceSmoothedProbability(model, context, word, vocab_size)\n",
    "        log_prob_sum += math.log(prob)\n",
    "\n",
    "    return math.exp(-log_prob_sum / (N - n + 1))"
   ]
  },
  {
   "cell_type": "code",
   "execution_count": 231,
   "id": "48068ce4",
   "metadata": {},
   "outputs": [],
   "source": [
    "def calculatePerplexityInterpolated(tokens, uni_model, bi_model, tri_model, vocab_size, lambdas=(0.2, 0.3, 0.5)):\n",
    "    import math\n",
    "    N = len(tokens)\n",
    "    if N < 3:\n",
    "        return float('inf')\n",
    "\n",
    "    log_prob_sum = 0.0\n",
    "    for i in range(N - 3 + 1):\n",
    "        ngram = tuple(tokens[i:i + 3])\n",
    "        context = ngram[:-1]\n",
    "        word = ngram[-1]\n",
    "\n",
    "        prob = interpolatedProbability(uni_model, bi_model, tri_model, context, word, vocab_size, lambdas)\n",
    "        log_prob_sum += math.log(prob)\n",
    "\n",
    "    return math.exp(-log_prob_sum / (N - 3 + 1))"
   ]
  },
  {
   "cell_type": "code",
   "execution_count": 232,
   "id": "c3b6663a",
   "metadata": {},
   "outputs": [
    {
     "data": {
      "text/html": [
       "<div>\n",
       "<style scoped>\n",
       "    .dataframe tbody tr th:only-of-type {\n",
       "        vertical-align: middle;\n",
       "    }\n",
       "\n",
       "    .dataframe tbody tr th {\n",
       "        vertical-align: top;\n",
       "    }\n",
       "\n",
       "    .dataframe thead th {\n",
       "        text-align: right;\n",
       "    }\n",
       "</style>\n",
       "<table border=\"1\" class=\"dataframe\">\n",
       "  <thead>\n",
       "    <tr style=\"text-align: right;\">\n",
       "      <th></th>\n",
       "      <th>n</th>\n",
       "      <th>Laplace</th>\n",
       "      <th>Interpolación</th>\n",
       "      <th>Kneser-Ney</th>\n",
       "    </tr>\n",
       "  </thead>\n",
       "  <tbody>\n",
       "    <tr>\n",
       "      <th>0</th>\n",
       "      <td>1</td>\n",
       "      <td>497.11</td>\n",
       "      <td>—</td>\n",
       "      <td>—</td>\n",
       "    </tr>\n",
       "    <tr>\n",
       "      <th>1</th>\n",
       "      <td>2</td>\n",
       "      <td>3454.97</td>\n",
       "      <td>—</td>\n",
       "      <td>307.78</td>\n",
       "    </tr>\n",
       "    <tr>\n",
       "      <th>2</th>\n",
       "      <td>3</td>\n",
       "      <td>14720.46</td>\n",
       "      <td>691.0</td>\n",
       "      <td>670.7</td>\n",
       "    </tr>\n",
       "  </tbody>\n",
       "</table>\n",
       "</div>"
      ],
      "text/plain": [
       "   n   Laplace Interpolación Kneser-Ney\n",
       "0  1    497.11             —          —\n",
       "1  2   3454.97             —     307.78\n",
       "2  3  14720.46         691.0      670.7"
      ]
     },
     "metadata": {},
     "output_type": "display_data"
    }
   ],
   "source": [
    "sentence = \"el proyecto de la construcción es grande y complejo\"\n",
    "sentence_tokens = sentence.strip().split()\n",
    "\n",
    "# Tabla vacía\n",
    "tabla_perplejidad = {\n",
    "    \"n\": [],\n",
    "    \"Laplace\": [],\n",
    "    \"Interpolación\": [],\n",
    "    \"Kneser-Ney\": []\n",
    "}\n",
    "\n",
    "for i, n_size in enumerate(n):\n",
    "    tabla_perplejidad[\"n\"].append(n_size)\n",
    "\n",
    "    # === Laplace ===\n",
    "    model_laplace = bigramsProbability[i]\n",
    "    vocab_laplace = bigramsVocabSize[i]\n",
    "    ppl_laplace = calculatePerplexityLaplace(sentence_tokens, model_laplace, vocab_laplace, n_size)\n",
    "    tabla_perplejidad[\"Laplace\"].append(round(ppl_laplace, 2))\n",
    "\n",
    "    # === Interpolación (solo para n = 3) ===\n",
    "    if n_size == 3:\n",
    "        ppl_interp = calculatePerplexityInterpolated(\n",
    "            sentence_tokens,\n",
    "            bigramsProbability[0],\n",
    "            bigramsProbability[1],\n",
    "            bigramsProbability[2],\n",
    "            vocab_laplace\n",
    "        )\n",
    "        tabla_perplejidad[\"Interpolación\"].append(round(ppl_interp, 2))\n",
    "    else:\n",
    "        tabla_perplejidad[\"Interpolación\"].append(\"—\")\n",
    "\n",
    "    # === Kneser-Ney usando model.perplexity() de nltk.lm ===\n",
    "    if n_size == 1:\n",
    "        tabla_perplejidad[\"Kneser-Ney\"].append(\"—\")\n",
    "    else:\n",
    "        test_ngrams = list(ngrams(sentence_tokens, n_size))\n",
    "        ppl_kn = kneser_models[i].perplexity(test_ngrams)\n",
    "        tabla_perplejidad[\"Kneser-Ney\"].append(round(ppl_kn, 2))\n",
    "\n",
    "# Mostrar la tabla\n",
    "df_perplejidad = pd.DataFrame(tabla_perplejidad)\n",
    "display(df_perplejidad)"
   ]
  },
  {
   "cell_type": "markdown",
   "id": "e7886f02",
   "metadata": {},
   "source": [
    "## Generación de texto"
   ]
  },
  {
   "cell_type": "code",
   "execution_count": 233,
   "id": "ee316253",
   "metadata": {},
   "outputs": [],
   "source": [
    "def generateTextLaplace(model, vocab, vocab_size, n, seed, length=15):\n",
    "    generated = seed.strip().split()\n",
    "    for _ in range(length):\n",
    "        context = tuple(generated[-(n-1):]) if n > 1 else ()\n",
    "        probs = {}\n",
    "        for word in vocab:\n",
    "            prob = laplaceSmoothedProbability(model, context, word, vocab_size)\n",
    "            probs[word] = prob\n",
    "        next_word = random.choices(list(probs.keys()), weights=probs.values())[0]\n",
    "        generated.append(next_word)\n",
    "    return ' '.join(generated)"
   ]
  },
  {
   "cell_type": "code",
   "execution_count": 237,
   "id": "31f7cb98",
   "metadata": {},
   "outputs": [],
   "source": [
    "def generateTextInterpolated(unigrams, bigrams, trigrams, vocab, n, seed, length):\n",
    "    generated = seed.strip().split()\n",
    "\n",
    "    for _ in range(length):\n",
    "        # Asegura que el contexto tiene la longitud adecuada\n",
    "        context = tuple(generated[-(n-1):]) if len(generated) >= n-1 else tuple(generated)\n",
    "        \n",
    "        probs = {}\n",
    "        for word in vocab:\n",
    "            prob = interpolatedProbability(\n",
    "                unigrams, bigrams, trigrams,\n",
    "                context,\n",
    "                word,\n",
    "                len(vocab)\n",
    "            )\n",
    "            probs[word] = prob\n",
    "\n",
    "        # Selección ponderada\n",
    "        next_word = random.choices(list(probs.keys()), weights=probs.values())[0]\n",
    "        generated.append(next_word)\n",
    "\n",
    "    return ' '.join(generated)\n"
   ]
  },
  {
   "cell_type": "code",
   "execution_count": 245,
   "id": "a1a76c28",
   "metadata": {},
   "outputs": [],
   "source": [
    "def generateTextKneserNey(model, n, seed, length=15):\n",
    "    generated = seed.strip().split()\n",
    "    context = tuple(generated[-(n-1):]) if n > 1 else ()\n",
    "\n",
    "    # Usamos directamente .generate con num_words=length y el context inicial\n",
    "    generated_words = list(model.generate(length, text_seed=context))\n",
    "\n",
    "    # Unimos el seed original con las nuevas palabras generadas\n",
    "    return ' '.join(generated + generated_words)"
   ]
  },
  {
   "cell_type": "code",
   "execution_count": 248,
   "id": "4ce7458c",
   "metadata": {},
   "outputs": [
    {
     "name": "stdout",
     "output_type": "stream",
     "text": [
      "\n",
      "--- n = 1 ---\n",
      "Laplace:\n",
      "el su sobre_todo cristal quede depor de los la él guatemaltecos particular europeo sur de la\n",
      "\n",
      "--- n = 2 ---\n",
      "Laplace:\n",
      "el bienestar arg estuvo presiona consumo proyecta desdoro denunció tirarla obligados bateo girar rencor fuerza_armada 4b\n",
      "\n",
      "Kneser-Ney:\n",
      "el rey_juan_carlos se mostró convencido de ajuste de contratación ya_que puede criticar porque lo que sobre\n",
      "\n",
      "--- n = 3 ---\n",
      "Laplace:\n",
      "el monetario abren rendimiento extraño 4p sentado tony_rominger tamaños kim_dae_jung mafiosa indeseados de_tarde_en_tarde entiende caballería utilitario\n",
      "\n",
      "Interpolación:\n",
      "el heroicidad especialistas almorzando ariete al_cabo_de remitir evitar caracolean castigada simpática trato objetivos ojo aplacar aún\n",
      "\n",
      "Kneser-Ney:\n",
      "el de su puesta en marcha de la tierra y han estado marcados por insultos personales\n"
     ]
    }
   ],
   "source": [
    "seed = \"el\"\n",
    "length = 15\n",
    "\n",
    "all_tokens = []\n",
    "for sentence in comments:\n",
    "    all_tokens.extend(sentence.strip().split())\n",
    "\n",
    "vocabulario = set(all_tokens)\n",
    "\n",
    "for i, n_size in enumerate(n):\n",
    "    print(f\"\\n--- n = {n_size} ---\")\n",
    "\n",
    "    # Laplace\n",
    "    print(\"Laplace:\")\n",
    "    print(generateTextLaplace(bigramsProbability[i], vocabulario, bigramsVocabSize[i], n_size, seed, length))\n",
    "\n",
    "    # Interpolación (solo para n=3)\n",
    "    if n_size == 3:\n",
    "        print(\"\\nInterpolación:\")\n",
    "        print(generateTextInterpolated(\n",
    "            bigramsProbability[0],\n",
    "            bigramsProbability[1],\n",
    "            bigramsProbability[2],\n",
    "            vocabulario,\n",
    "            n_size,\n",
    "            seed,\n",
    "            length\n",
    "        ))\n",
    "\n",
    "    # Kneser-Ney\n",
    "    if n_size >= 2:\n",
    "        model = kneser_models[i]\n",
    "        print(\"\\nKneser-Ney:\")\n",
    "        print(generateTextKneserNey(model, n_size, seed, length))\n"
   ]
  },
  {
   "cell_type": "markdown",
   "id": "9c943d35",
   "metadata": {},
   "source": [
    "## Discusión final"
   ]
  },
  {
   "cell_type": "markdown",
   "id": "93a1e857",
   "metadata": {},
   "source": [
    "Los resultados evidencian cómo las distintas técnicas de suavizado afectan significativamente la perplejidad del modelo. El suavizado de Laplace genera perplejidades excesivamente altas a medida que aumenta el valor de n, especialmente en n=3 donde supera los 14,000. Esto indica que este método no maneja adecuadamente la esparsidad en n-gramas a medida que n es mayor. En cambio, otras técnicas como la Interpolación (691.0) y Kneser-Ney (670.7) logran una mejor distribución de probabilidad, reduciendo considerablemente la perplejidad y reflejando un mejor rendimiento estadístico del modelo."
   ]
  },
  {
   "cell_type": "markdown",
   "id": "7c8c04ae",
   "metadata": {},
   "source": [
    "A medida que aumenta n, los modelos pueden considerar más contexto anterior, lo cual mejora la fluidez y coherencia del texto generado. Con n=1 (Laplace), el texto resulta desorganizado y con poca estructura. Para n=2, los modelos empiezan a generar frases parcialmente coherentes. Finalmente, con n=3, los textos generados mediante Interpolación y Kneser-Ney presentan oraciones más naturales y con una mejor conexión entre palabras. Esto sugiere que la capacidad de modelar el contexto largo, combinada con un suavizado efectivo, mejora sustancialmente la calidad del lenguaje generado."
   ]
  },
  {
   "cell_type": "markdown",
   "id": "1bf5d366",
   "metadata": {},
   "source": [
    "La esparsidad tiene un impacto directo y severo en el rendimiento de los modelos. Cuando el corpus no contiene suficientes combinaciones posibles de palabras, los modelos sin un buen suavizado (como Laplace) asignan malas probabilidades, elevando la perplejidad y afectando la generación de texto. Modelos como Kneser-Ney son menos vulnerables a este problema, ya que estiman la probabilidad de un n-grama basándose también en cómo aparecen las palabras en otros contextos, permitiendo una mejor generalización incluso con datos escasos."
   ]
  }
 ],
 "metadata": {
  "kernelspec": {
   "display_name": "venv (3.13.5)",
   "language": "python",
   "name": "python3"
  },
  "language_info": {
   "codemirror_mode": {
    "name": "ipython",
    "version": 3
   },
   "file_extension": ".py",
   "mimetype": "text/x-python",
   "name": "python",
   "nbconvert_exporter": "python",
   "pygments_lexer": "ipython3",
   "version": "3.13.5"
  }
 },
 "nbformat": 4,
 "nbformat_minor": 5
}
